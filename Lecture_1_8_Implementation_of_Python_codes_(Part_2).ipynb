{
  "nbformat": 4,
  "nbformat_minor": 0,
  "metadata": {
    "colab": {
      "provenance": [],
      "toc_visible": true,
      "include_colab_link": true
    },
    "kernelspec": {
      "name": "python3",
      "display_name": "Python 3"
    },
    "language_info": {
      "name": "python"
    }
  },
  "cells": [
    {
      "cell_type": "markdown",
      "metadata": {
        "id": "view-in-github",
        "colab_type": "text"
      },
      "source": [
        "<a href=\"https://colab.research.google.com/github/AKSHITHA-CHILUKA/All-in-One/blob/main/Lecture_1_8_Implementation_of_Python_codes_(Part_2).ipynb\" target=\"_parent\"><img src=\"https://colab.research.google.com/assets/colab-badge.svg\" alt=\"Open In Colab\"/></a>"
      ]
    },
    {
      "cell_type": "markdown",
      "metadata": {
        "id": "Pv-EPhh7yz_a"
      },
      "source": [
        "# PDSA with Python, Week 1 - Classes and objects"
      ]
    },
    {
      "cell_type": "markdown",
      "metadata": {
        "id": "3e6GBtzfMs7O"
      },
      "source": [
        "### Basic definition of class `Point` using $(x,y)$ coordinates"
      ]
    },
    {
      "cell_type": "code",
      "metadata": {
        "id": "ca2GbnOHzC2r"
      },
      "source": [
        "class Point:\n",
        "  def __init__(self,a=0,b=0):\n",
        "    self.x = a\n",
        "    self.y = b\n",
        "\n",
        "  def translate(self,deltax,deltay):\n",
        "    self.x += deltax\n",
        "    self.y += deltay\n",
        "\n",
        "  def odistance(self):\n",
        "    import math\n",
        "    d = math.sqrt(self.x*self.x +\n",
        "                  self.y*self.y)\n",
        "    return(d)"
      ],
      "execution_count": 1,
      "outputs": []
    },
    {
      "cell_type": "markdown",
      "metadata": {
        "id": "vL5H9DY-NGgv"
      },
      "source": [
        "Create two points"
      ]
    },
    {
      "cell_type": "code",
      "metadata": {
        "id": "-oTeAgIcNP2L"
      },
      "source": [
        "p = Point(3,4)\n",
        "q = Point(7,10)"
      ],
      "execution_count": 2,
      "outputs": []
    },
    {
      "cell_type": "markdown",
      "metadata": {
        "id": "XdAb4k1SNWoS"
      },
      "source": [
        "Compute `odistance` for `p` and `q`"
      ]
    },
    {
      "cell_type": "code",
      "metadata": {
        "colab": {
          "base_uri": "https://localhost:8080/"
        },
        "id": "YzY1sm3bhUc9",
        "outputId": "892965ca-9266-41f8-f149-0dea07b9d6e0"
      },
      "source": [
        "p.odistance(), q.odistance()"
      ],
      "execution_count": 3,
      "outputs": [
        {
          "output_type": "execute_result",
          "data": {
            "text/plain": [
              "(5.0, 12.206555615733702)"
            ]
          },
          "metadata": {},
          "execution_count": 3
        }
      ]
    },
    {
      "cell_type": "markdown",
      "metadata": {
        "id": "jS7WVBYmNkfz"
      },
      "source": [
        "Translate `p` and check the distance"
      ]
    },
    {
      "cell_type": "code",
      "metadata": {
        "id": "ZWqlMbmANiGO",
        "colab": {
          "base_uri": "https://localhost:8080/"
        },
        "outputId": "ef2bd16e-9f00-4460-e36f-1e06e5b6f15a"
      },
      "source": [
        "p.translate(3,4)\n",
        "\n",
        "p.odistance()"
      ],
      "execution_count": 4,
      "outputs": [
        {
          "output_type": "stream",
          "name": "stdout",
          "text": [
            "<__main__.Point object at 0x7a12f24bda50>\n"
          ]
        },
        {
          "output_type": "execute_result",
          "data": {
            "text/plain": [
              "10.0"
            ]
          },
          "metadata": {},
          "execution_count": 4
        }
      ]
    },
    {
      "cell_type": "markdown",
      "metadata": {
        "id": "fV_cqd-TN6_N"
      },
      "source": [
        "* At this stage, `print()` does not produce anything meaningful\n",
        "* `+` is not defined yet"
      ]
    },
    {
      "cell_type": "code",
      "metadata": {
        "colab": {
          "base_uri": "https://localhost:8080/"
        },
        "id": "5ExlIEd-kbAq",
        "outputId": "cf3773f1-591d-4b8f-853b-827f54ae8fd1"
      },
      "source": [
        "print(p)"
      ],
      "execution_count": null,
      "outputs": [
        {
          "output_type": "stream",
          "text": [
            "<__main__.Point object at 0x7f3b302c0750>\n"
          ],
          "name": "stdout"
        }
      ]
    },
    {
      "cell_type": "code",
      "metadata": {
        "colab": {
          "base_uri": "https://localhost:8080/",
          "height": 168
        },
        "id": "yKrNADbxOQQ3",
        "outputId": "08356ad6-8488-4edf-8d2b-2f5ba8d21d4c"
      },
      "source": [
        "print(p+q)"
      ],
      "execution_count": null,
      "outputs": [
        {
          "output_type": "error",
          "ename": "TypeError",
          "evalue": "ignored",
          "traceback": [
            "\u001b[0;31m---------------------------------------------------------------------------\u001b[0m",
            "\u001b[0;31mTypeError\u001b[0m                                 Traceback (most recent call last)",
            "\u001b[0;32m<ipython-input-6-1886228b68be>\u001b[0m in \u001b[0;36m<module>\u001b[0;34m()\u001b[0m\n\u001b[0;32m----> 1\u001b[0;31m \u001b[0mprint\u001b[0m\u001b[0;34m(\u001b[0m\u001b[0mp\u001b[0m\u001b[0;34m+\u001b[0m\u001b[0mq\u001b[0m\u001b[0;34m)\u001b[0m\u001b[0;34m\u001b[0m\u001b[0;34m\u001b[0m\u001b[0m\n\u001b[0m",
            "\u001b[0;31mTypeError\u001b[0m: unsupported operand type(s) for +: 'Point' and 'Point'"
          ]
        }
      ]
    },
    {
      "cell_type": "markdown",
      "metadata": {
        "id": "LDKw6QbcOWhn"
      },
      "source": [
        "## Now change the definition of `Point` to use $(r,\\theta)$ representation"
      ]
    },
    {
      "cell_type": "code",
      "metadata": {
        "id": "Pu9qu_a5kJdJ"
      },
      "source": [
        "import math\n",
        "class Point:\n",
        "  def __init__(self,a=0,b=0):\n",
        "    self.r = math.sqrt(a*a + b*b)\n",
        "    if a == 0:\n",
        "      self.theta = 0\n",
        "    else:\n",
        "      self.theta = math.atan(b/a)\n",
        "\n",
        "  def translate(self,deltax,deltay):\n",
        "    x = self.r*math.cos(self.theta)\n",
        "    y = self.r*math.sin(self.theta)\n",
        "    x += deltax\n",
        "    y += deltay\n",
        "    self.r = math.sqrt(x*x + y*y)\n",
        "    if x == 0:\n",
        "      self.theta = 0\n",
        "    else:\n",
        "      self.theta = math.atan(y/x)\n",
        "\n",
        "  def odistance(self):\n",
        "    return(self.r)\n"
      ],
      "execution_count": null,
      "outputs": []
    },
    {
      "cell_type": "markdown",
      "metadata": {
        "id": "R47rTz9YOx9M"
      },
      "source": [
        "### Repeat the examples above\n",
        "* Observe that nothing changes for the user of the class"
      ]
    },
    {
      "cell_type": "markdown",
      "metadata": {
        "id": "ZCNaDrTyOyOO"
      },
      "source": [
        "Create two points"
      ]
    },
    {
      "cell_type": "code",
      "metadata": {
        "id": "Zqs81eH9OyOR"
      },
      "source": [
        "p = Point(3,4)\n",
        "q = Point(7,10)"
      ],
      "execution_count": null,
      "outputs": []
    },
    {
      "cell_type": "markdown",
      "metadata": {
        "id": "5blqhCjgOyOU"
      },
      "source": [
        "Compute `odistance` for `p` and `q`"
      ]
    },
    {
      "cell_type": "code",
      "metadata": {
        "colab": {
          "base_uri": "https://localhost:8080/"
        },
        "id": "i4h-cuOkOyOW",
        "outputId": "2d715329-fe9f-49a5-d352-05f10037f919"
      },
      "source": [
        "p.odistance(), q.odistance()"
      ],
      "execution_count": null,
      "outputs": [
        {
          "output_type": "execute_result",
          "data": {
            "text/plain": [
              "(5.0, 12.206555615733702)"
            ]
          },
          "metadata": {
            "tags": []
          },
          "execution_count": 9
        }
      ]
    },
    {
      "cell_type": "markdown",
      "metadata": {
        "id": "WKKpB9fCOyOa"
      },
      "source": [
        "Translate `p` and check the distance"
      ]
    },
    {
      "cell_type": "code",
      "metadata": {
        "colab": {
          "base_uri": "https://localhost:8080/"
        },
        "id": "-8g6qFUKOyOc",
        "outputId": "8090c1ad-4c86-43aa-d776-77db82f067a2"
      },
      "source": [
        "p.translate(3,4)\n",
        "p.odistance()"
      ],
      "execution_count": null,
      "outputs": [
        {
          "output_type": "execute_result",
          "data": {
            "text/plain": [
              "10.0"
            ]
          },
          "metadata": {
            "tags": []
          },
          "execution_count": 10
        }
      ]
    },
    {
      "cell_type": "code",
      "metadata": {
        "colab": {
          "base_uri": "https://localhost:8080/"
        },
        "id": "AtHNg3ybP-kR",
        "outputId": "2f3b558b-0424-4a78-a4b3-3e8485cacbe3"
      },
      "source": [
        "print(p)"
      ],
      "execution_count": null,
      "outputs": [
        {
          "output_type": "stream",
          "text": [
            "<__main__.Point object at 0x7f3b302d98d0>\n"
          ],
          "name": "stdout"
        }
      ]
    },
    {
      "cell_type": "code",
      "metadata": {
        "colab": {
          "base_uri": "https://localhost:8080/",
          "height": 168
        },
        "id": "Rdds_CEuP5ga",
        "outputId": "d996a299-baa9-4ea9-a884-24ef9806f369"
      },
      "source": [
        "print(p+q)"
      ],
      "execution_count": null,
      "outputs": [
        {
          "output_type": "error",
          "ename": "TypeError",
          "evalue": "ignored",
          "traceback": [
            "\u001b[0;31m---------------------------------------------------------------------------\u001b[0m",
            "\u001b[0;31mTypeError\u001b[0m                                 Traceback (most recent call last)",
            "\u001b[0;32m<ipython-input-12-1886228b68be>\u001b[0m in \u001b[0;36m<module>\u001b[0;34m()\u001b[0m\n\u001b[0;32m----> 1\u001b[0;31m \u001b[0mprint\u001b[0m\u001b[0;34m(\u001b[0m\u001b[0mp\u001b[0m\u001b[0;34m+\u001b[0m\u001b[0mq\u001b[0m\u001b[0;34m)\u001b[0m\u001b[0;34m\u001b[0m\u001b[0;34m\u001b[0m\u001b[0m\n\u001b[0m",
            "\u001b[0;31mTypeError\u001b[0m: unsupported operand type(s) for +: 'Point' and 'Point'"
          ]
        }
      ]
    },
    {
      "cell_type": "markdown",
      "metadata": {
        "id": "WY4_XGDWPdWV"
      },
      "source": [
        "## Return to $(x,y)$ representation, adding `__str__` and `__add__`"
      ]
    },
    {
      "cell_type": "code",
      "metadata": {
        "id": "IA5wxJM2l6bY"
      },
      "source": [
        "class Point:\n",
        "  def __init__(self,a=0,b=0):\n",
        "    self.x = a\n",
        "    self.y = b\n",
        "\n",
        "  def translate(self,deltax,deltay):\n",
        "    self.x += deltax\n",
        "    self.y += deltay\n",
        "\n",
        "  def odistance(self):\n",
        "    import math\n",
        "    d = math.sqrt(self.x*self.x +\n",
        "                  self.y*self.y)\n",
        "    return(d)\n",
        "\n",
        "  def __str__(self):\n",
        "    return('('+str(self.x)+','\n",
        "            +str(self.y)+')')\n",
        "\n",
        "  def __add__(self,p):\n",
        "    return(Point(self.x + p.x,\n",
        "                 self.y + p.y))\n"
      ],
      "execution_count": null,
      "outputs": []
    },
    {
      "cell_type": "markdown",
      "metadata": {
        "id": "TDx4EfoAPyou"
      },
      "source": [
        "## Again, run the same examples"
      ]
    },
    {
      "cell_type": "code",
      "metadata": {
        "id": "YQKmATswPw3z"
      },
      "source": [
        "p = Point(3,4)\n",
        "q = Point(7,10)"
      ],
      "execution_count": null,
      "outputs": []
    },
    {
      "cell_type": "markdown",
      "metadata": {
        "id": "ZDzM_xaaPw31"
      },
      "source": [
        "Compute `odistance` for `p` and `q`"
      ]
    },
    {
      "cell_type": "code",
      "metadata": {
        "colab": {
          "base_uri": "https://localhost:8080/"
        },
        "id": "WKTMDwUoPw32",
        "outputId": "07a2e36f-54c6-4364-d6c4-b29c33d077d8"
      },
      "source": [
        "p.odistance(), q.odistance()"
      ],
      "execution_count": null,
      "outputs": [
        {
          "output_type": "execute_result",
          "data": {
            "text/plain": [
              "(5.0, 12.206555615733702)"
            ]
          },
          "metadata": {
            "tags": []
          },
          "execution_count": 22
        }
      ]
    },
    {
      "cell_type": "markdown",
      "metadata": {
        "id": "QBWwxM5XPw34"
      },
      "source": [
        "Translate `p` and check the distance"
      ]
    },
    {
      "cell_type": "code",
      "metadata": {
        "colab": {
          "base_uri": "https://localhost:8080/"
        },
        "id": "-yYwSGgHPw35",
        "outputId": "f0c4fb05-ad16-4c9b-d1bc-13689a991072"
      },
      "source": [
        "p.translate(3,4)\n",
        "p.odistance()"
      ],
      "execution_count": null,
      "outputs": [
        {
          "output_type": "execute_result",
          "data": {
            "text/plain": [
              "10.0"
            ]
          },
          "metadata": {
            "tags": []
          },
          "execution_count": 23
        }
      ]
    },
    {
      "cell_type": "markdown",
      "metadata": {
        "id": "IJ223fxdPw37"
      },
      "source": [
        "In the following two cells, we see a difference\n",
        "* Since `__str__` is defined, `print()` gives useful output\n",
        "* `+` works as expected thanks to the definition for `__add__`"
      ]
    },
    {
      "cell_type": "markdown",
      "metadata": {
        "id": "8wmgdrGdRMpX"
      },
      "source": []
    },
    {
      "cell_type": "code",
      "metadata": {
        "colab": {
          "base_uri": "https://localhost:8080/"
        },
        "id": "nqy2SmN2Pw38",
        "outputId": "b2461d51-27f3-4592-bce4-74daa9b509b1"
      },
      "source": [
        "print(p)"
      ],
      "execution_count": null,
      "outputs": [
        {
          "output_type": "stream",
          "text": [
            "(6,8)\n"
          ],
          "name": "stdout"
        }
      ]
    },
    {
      "cell_type": "code",
      "metadata": {
        "colab": {
          "base_uri": "https://localhost:8080/"
        },
        "id": "5xXveEMAPw39",
        "outputId": "b9f83da6-c9e4-4094-811d-d7b13cd3b302"
      },
      "source": [
        "print(p+q)"
      ],
      "execution_count": null,
      "outputs": [
        {
          "output_type": "stream",
          "text": [
            "(13,18)\n"
          ],
          "name": "stdout"
        }
      ]
    }
  ]
}